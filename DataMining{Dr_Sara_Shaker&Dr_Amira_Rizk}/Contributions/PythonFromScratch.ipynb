{
 "cells": [
  {
   "cell_type": "markdown",
   "metadata": {},
   "source": [
    "# In The Name Of Allah\n",
    "---\n",
    "## Section 1 => Python notebook and Python Fundamentals\n",
    "\n",
    "\n",
    "- How to use, run, create  a python cell \n",
    "- Output => Print\n",
    "- Operations => +,-\n",
    "- Logical operators => ==,!=,<,>\n",
    "- Control (Conditions) statements => if elif else\n",
    "- Input\n",
    "- Important Functions\n",
    "- Functions\n",
    "- Loop"
   ]
  },
  {
   "cell_type": "markdown",
   "metadata": {},
   "source": [
    "## How to use, run, create  a python cell\n",
    "\n",
    "### The Cells can be used for 3 types:\n",
    "- __Code__  => Choose between diffrent kernels (Python , R , F# ,C# Data Analysis Dotnet Core Tools) to run code\n",
    "- __Markdown__ => Just a Markup language to write documents(Can merge _LaTex and HTML_ statements)\n",
    "- __Raw NB Convert__ => Plain Text\n",
    "   \n",
    "\n",
    "> You Can Run The Cell Using  __(Enter + Shift)__ or __(Alt + Enter)__ => But that create another cell\n",
    "\n",
    "> the GUI in Ribon's or __Ctrl +Enter__ => just Run  \n"
   ]
  },
  {
   "cell_type": "markdown",
   "metadata": {},
   "source": [
    "## Output in Python \n",
    "\n",
    "Just use print() method to output Examples:\n"
   ]
  },
  {
   "cell_type": "code",
   "execution_count": 1,
   "metadata": {},
   "outputs": [
    {
     "name": "stdout",
     "output_type": "stream",
     "text": [
      "Hello World\n"
     ]
    }
   ],
   "source": [
    "print('Hello World')"
   ]
  },
  {
   "cell_type": "code",
   "execution_count": 2,
   "metadata": {},
   "outputs": [
    {
     "name": "stdout",
     "output_type": "stream",
     "text": [
      "Concatonation\n"
     ]
    }
   ],
   "source": [
    "print(\"Concat\"+\"onation\")"
   ]
  },
  {
   "cell_type": "code",
   "execution_count": 9,
   "metadata": {},
   "outputs": [
    {
     "name": "stdout",
     "output_type": "stream",
     "text": [
      "interpolation of a summation result = 10\n",
      "\n",
      "\n",
      "Interpolation of My Name: Ahmed Khalil\n"
     ]
    }
   ],
   "source": [
    "# Using Interpolation string functions\n",
    "a = 4\n",
    "b = 6\n",
    "print('interpolation of a summation result = %s' %(a+b))\n",
    "\n",
    "x = 'Ahmed'\n",
    "y = ' Khalil'\n",
    "\n",
    "# f-string\n",
    "print('\\n')\n",
    "print(f'Interpolation of My Name: {x + y}')\n"
   ]
  },
  {
   "cell_type": "code",
   "execution_count": 12,
   "metadata": {},
   "outputs": [
    {
     "name": "stdout",
     "output_type": "stream",
     "text": [
      "Print\n",
      "AS\n",
      "Is                    ????\n"
     ]
    }
   ],
   "source": [
    "# Triple Quotes Make it as is ?? like HTML <Pre>\n",
    "\n",
    "print('''Print\n",
    "AS\n",
    "Is                    ????''')"
   ]
  },
  {
   "cell_type": "code",
   "execution_count": 13,
   "metadata": {},
   "outputs": [
    {
     "data": {
      "text/plain": [
       "' Ahmed Khalil  Ahmed Khalil  Ahmed Khalil  Ahmed Khalil  Ahmed Khalil  Ahmed Khalil  Ahmed Khalil  Ahmed Khalil  Ahmed Khalil  Ahmed Khalil  Ahmed Khalil  Ahmed Khalil  Ahmed Khalil  Ahmed Khalil  Ahmed Khalil  Ahmed Khalil  Ahmed Khalil  Ahmed Khalil  Ahmed Khalil  Ahmed Khalil Hello'"
      ]
     },
     "execution_count": 13,
     "metadata": {},
     "output_type": "execute_result"
    }
   ],
   "source": [
    "# scripting without print()?  not print but the object ??\n",
    "' Ahmed Khalil ' * 20 + 'Hello' "
   ]
  },
  {
   "cell_type": "markdown",
   "metadata": {},
   "source": [
    "## Operations and Operators? ofcorse, it's not a surgery in python\n",
    "\n",
    "![](../PICS/Operators.jpg)\n",
    "\n",
    "\n",
    "- Ceil is Upside down floor, How Can i change the floor with my roof?\n",
    "\n",
    "\n"
   ]
  },
  {
   "cell_type": "code",
   "execution_count": 48,
   "metadata": {},
   "outputs": [
    {
     "name": "stdout",
     "output_type": "stream",
     "text": [
      "Summation 7 \n",
      "subtraction 1 \n",
      "multiblication 12 \n",
      "division 1.3333333333333333 \n",
      "mode 1 \n",
      "floor 1 \n",
      "ceil 2 \n",
      "exponintional 64 \n",
      "The earth is like a Sphier = True\n",
      "x > y = True\n",
      "x < y = False\n",
      "x == y = False\n",
      "\n",
      " True is True\n",
      " Not a True is -2 \n",
      "Not false is -1 \n",
      "  Not False is -1\n",
      "Not Not False =0\n",
      "Is That make a headach ): \n"
     ]
    }
   ],
   "source": [
    "x = 4\n",
    "y = 3\n",
    "The_Earth_is_Flat = False\n",
    "print(f'Summation {x+y} \\nsubtraction {x-y} \\nmultiblication {x*y} \\ndivision {x/y} ')\n",
    "\n",
    "# Ceil is Upside down floor\n",
    "print(f'mode {x%y} \\nfloor {x//y} \\nceil {-(-x//y)} \\nexponintional {x**y} ')\n",
    "\n",
    "# logical operators \n",
    "\n",
    "print(f'The earth is like a Sphier = '+ str(not The_Earth_is_Flat))\n",
    "\n",
    "print(f'x > y = {x>y}\\nx < y = {x<y}\\nx == y = {x==y}\\n')\n",
    "\n",
    "# seems that 1 = True but Not True =-2 , How Can it equla false = 0  ?? => Logical Head error\n",
    "print(f' True is {True}\\n Not a True is {~True} \\nNot false is {~False} \\n  Not False is {~0}\\nNot Not False ={ ~(-1)}')\n",
    "\n",
    "print('Is That make a headach ): ')\n",
    "\n",
    "\n"
   ]
  },
  {
   "cell_type": "markdown",
   "metadata": {},
   "source": [
    "## Got The Logic in python\n",
    "- True = 1\n",
    "- Not True = -2\n",
    "- false = 0\n",
    "- Not False = -1"
   ]
  },
  {
   "cell_type": "code",
   "execution_count": 54,
   "metadata": {},
   "outputs": [
    {
     "name": "stdout",
     "output_type": "stream",
     "text": [
      "True\n",
      "True\n",
      "True\n",
      "True\n"
     ]
    }
   ],
   "source": [
    "print(True == 1)\n",
    "print(not True == -2)\n",
    "print(False == 0)\n",
    "print(not False == -1)"
   ]
  },
  {
   "cell_type": "markdown",
   "metadata": {},
   "source": [
    "## Seems You know about logical Gates => Let's Check Your Answers"
   ]
  },
  {
   "cell_type": "code",
   "execution_count": 65,
   "metadata": {},
   "outputs": [
    {
     "name": "stdout",
     "output_type": "stream",
     "text": [
      "Take a rest first\n",
      "True\n",
      "True\n",
      "True\n",
      "False\n",
      "False\n",
      "are you sure by take a rest , python is not like a restful API (:\n",
      "True\n"
     ]
    }
   ],
   "source": [
    "print('Take a rest first')\n",
    "\n",
    "print(True & True) \n",
    "print(False | True)\n",
    "print(False or True)\n",
    "print(False and True)\n",
    "print(not True)\n",
    "\n",
    "print('are you sure by take a rest?? , python is not like a restful API (:')\n",
    "print(bool(-True))"
   ]
  },
  {
   "cell_type": "markdown",
   "metadata": {},
   "source": [
    "## let's Learn this Death logic behavior\n",
    "> We said that not True = -2 , but we never say that -True = -2, as -(True) = Not False \n",
    "\n",
    "> Not Not False = True ?? \n",
    "\n",
    "> I Think Your head __begin To rock__"
   ]
  },
  {
   "cell_type": "markdown",
   "metadata": {},
   "source": [
    "## Control Statements => seems a condition statement ?\n",
    "- __if__ you think Earth is flat, you have a Great Magic gate that take you from Japan direct to USA\n",
    "- __elif__ you think i am mad, You can take a good earth loop travel\n",
    "- __else__ you are with me \n",
    "\n"
   ]
  },
  {
   "cell_type": "code",
   "execution_count": 69,
   "metadata": {},
   "outputs": [
    {
     "name": "stdout",
     "output_type": "stream",
     "text": [
      "You are with me => You are my bro\n"
     ]
    }
   ],
   "source": [
    "I_AM_MAD = False\n",
    "\n",
    "if(The_Earth_is_Flat):\n",
    "    print('you have a Great Magic gate that take you from Japan direct to USA')\n",
    "elif(I_AM_MAD):\n",
    "    print('You can take a good earth loop travel')\n",
    "else:\n",
    "    print('You are with me => You are my bro')\n"
   ]
  },
  {
   "cell_type": "markdown",
   "metadata": {},
   "source": [
    "## Input, seems you complete the IO of console\n",
    "- input() return a string from user\n",
    "- how can I convert to int or float result, gonna use int.parse(Console.ReadLine())?"
   ]
  },
  {
   "cell_type": "code",
   "execution_count": 70,
   "metadata": {},
   "outputs": [
    {
     "name": "stdout",
     "output_type": "stream",
     "text": [
      "Enter Your Name = Ahmed Khalil\n"
     ]
    }
   ],
   "source": [
    "Name = input('Enter Your Name = ')"
   ]
  },
  {
   "cell_type": "code",
   "execution_count": 71,
   "metadata": {},
   "outputs": [
    {
     "name": "stdout",
     "output_type": "stream",
     "text": [
      "Enter your age22\n"
     ]
    }
   ],
   "source": [
    "# if a string seems to concatonate?? Yeap try it!\n",
    "Number = int(input('Enter your age'))"
   ]
  },
  {
   "cell_type": "markdown",
   "metadata": {},
   "source": [
    "## imprtant functions \n",
    "- Conversions\n",
    "    - float() , int(), str(),..........\n",
    "- Range of Nums \n",
    "    - range(start, step , finish)\n",
    "    - range(start,finish)\n",
    "    - range(finish)\n",
    "- Do you know that all python variables are objects?\n",
    "    - type() return the object type"
   ]
  },
  {
   "cell_type": "code",
   "execution_count": 75,
   "metadata": {},
   "outputs": [
    {
     "name": "stdout",
     "output_type": "stream",
     "text": [
      "range(0, 1, 9)\n",
      "range(0, 9)\n",
      "range(0, 9)\n"
     ]
    }
   ],
   "source": [
    "print(range(0,1,9))\n",
    "print(range(0,9))\n",
    "print(range(9))\n",
    "\n"
   ]
  },
  {
   "cell_type": "code",
   "execution_count": 80,
   "metadata": {},
   "outputs": [
    {
     "name": "stdout",
     "output_type": "stream",
     "text": [
      "<class 'range'>\n",
      "<class 'int'>\n",
      "<class 'float'>\n",
      "<class 'str'>\n"
     ]
    }
   ],
   "source": [
    "# believe that int is a class not a struct\n",
    "\n",
    "print(type(range(1)))\n",
    "print(type(1))\n",
    "print(type(1.0))\n",
    "\n",
    "# trick i am a human but serialized to a string? seems you know that serialization means from object to json\n",
    "# i am not mongodb bson\n",
    "print(type('Ahmed Khalil'))"
   ]
  },
  {
   "cell_type": "markdown",
   "metadata": {},
   "source": [
    "## Functions => let's def:\n",
    "\n",
    "- def Not_(Fun)ction_day_Name(params):\n",
    "    - statements and can return?"
   ]
  },
  {
   "cell_type": "code",
   "execution_count": 81,
   "metadata": {},
   "outputs": [],
   "source": [
    " def printMe(me):\n",
    "        print(f'Hello {me} , how do you do ?')\n",
    "        "
   ]
  },
  {
   "cell_type": "code",
   "execution_count": 83,
   "metadata": {},
   "outputs": [
    {
     "name": "stdout",
     "output_type": "stream",
     "text": [
      "Hello Ahmed Khalil , how do you do ?\n"
     ]
    }
   ],
   "source": [
    "printMe('Ahmed Khalil')"
   ]
  },
  {
   "cell_type": "code",
   "execution_count": 86,
   "metadata": {},
   "outputs": [],
   "source": [
    "# swap function implementation => seems Generic and easy, You are not need for empty glass\n",
    "def Swap(fname,lname):\n",
    "    fname,lname = lname,fname\n",
    "    print(fname)\n",
    "    print(lname)\n",
    "    "
   ]
  },
  {
   "cell_type": "code",
   "execution_count": 88,
   "metadata": {},
   "outputs": [
    {
     "name": "stdout",
     "output_type": "stream",
     "text": [
      "Khalil\n",
      "Ahmed\n",
      "Ahmed\n",
      "Khalil\n",
      "Khalil\n",
      "Ahmed\n"
     ]
    }
   ],
   "source": [
    "fname ='Ahmed'\n",
    "lname ='Khalil'\n",
    "Swap(fname , lname)\n",
    "print(fname)\n",
    "print(lname)\n",
    "fname,lname = lname,fname\n",
    "print(fname)\n",
    "print(lname)"
   ]
  },
  {
   "cell_type": "code",
   "execution_count": 90,
   "metadata": {},
   "outputs": [],
   "source": [
    "# take it easy ya 3azizy , Generics\n",
    "def sum(x,y):\n",
    "    return x+y\n"
   ]
  },
  {
   "cell_type": "code",
   "execution_count": 93,
   "metadata": {},
   "outputs": [
    {
     "name": "stdout",
     "output_type": "stream",
     "text": [
      "Ahmed Khali\n",
      "7\n",
      "6.1\n"
     ]
    }
   ],
   "source": [
    "print(sum('Ahmed ','Khali'))\n",
    "print(sum(3,4))\n",
    "print(sum(5,1.1))"
   ]
  },
  {
   "cell_type": "markdown",
   "metadata": {},
   "source": [
    "## Loop\n"
   ]
  },
  {
   "cell_type": "code",
   "execution_count": 1,
   "metadata": {},
   "outputs": [
    {
     "name": "stdout",
     "output_type": "stream",
     "text": [
      "1\n",
      "2\n",
      "3\n"
     ]
    }
   ],
   "source": [
    "for n in range(3):\n",
    "    print(n+1)"
   ]
  },
  {
   "cell_type": "code",
   "execution_count": null,
   "metadata": {},
   "outputs": [],
   "source": [
    "# ما ترنهاش احسنلك\n",
    "while range(3):\n",
    "    print('please don\\'t run me, i am a catastroph ')\n",
    "    print('Nothing can do, I must choose what is benefit!')\n",
    "    "
   ]
  },
  {
   "cell_type": "code",
   "execution_count": 3,
   "metadata": {},
   "outputs": [
    {
     "name": "stdout",
     "output_type": "stream",
     "text": [
      "0\n",
      "1\n",
      "2\n",
      "3\n"
     ]
    }
   ],
   "source": [
    "x =0\n",
    "while x <4:\n",
    "    print(x)\n",
    "    x+=1"
   ]
  },
  {
   "cell_type": "code",
   "execution_count": null,
   "metadata": {},
   "outputs": [],
   "source": []
  }
 ],
 "metadata": {
  "kernelspec": {
   "display_name": "Python 3",
   "language": "python",
   "name": "python3"
  },
  "language_info": {
   "codemirror_mode": {
    "name": "ipython",
    "version": 3
   },
   "file_extension": ".py",
   "mimetype": "text/x-python",
   "name": "python",
   "nbconvert_exporter": "python",
   "pygments_lexer": "ipython3",
   "version": "3.7.4"
  }
 },
 "nbformat": 4,
 "nbformat_minor": 2
}
