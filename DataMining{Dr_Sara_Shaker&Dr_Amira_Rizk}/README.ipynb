{
 "cells": [
  {
   "cell_type": "markdown",
   "metadata": {},
   "source": [
    "# In The Name Of Allah\n",
    "\n",
    "> Welcome For the Python notebook World, This is Just a test for the Jupyter notebook to all your conda environments\n",
    "\n",
    "- How can I write here like PDFs without coding () => Learn about __Markdown__ , __HTML__ , __LaTex__  easy to learn\n",
    "- This tool Generate Ipynb file like you open now in GitHub\n",
    "\n",
    "## Data Mining Practical Environment Configuration:\n",
    "\n",
    "- The study of Data Mining and Data Analysis best tools and choices:\n",
    "\n",
    "    - Anaconda Distribution (an open source distribution and a framework to merge the tools, packages, scripting languages to ease working with {AI, Data science, ML,....})\n",
    "\n",
    "        - You can download it from [here](https://www.anaconda.com/distribution/#download-section)\n",
    "    - Some Python packages { Pandas, Sciket-learn, numpy, matplotlib } => already Installed with anaconda\n",
    "    - python notebook => Jupyter Notebook and lab\n",
    "        - already installed { Just open the Anaconda}\n",
    "\n",
    "## After downloading and installing Anaconda\n",
    "![](PICS/Anaconda.png)\n",
    "\n",
    "> just open the Anaconda then jupyter notebook or search in start for jupyter\n",
    "![](PICS/1.png)\n",
    "\n",
    "## Python Prerequested Packages\n",
    "\n",
    "|![](PICS/2.png)    | ![](PICS/3.png)     | ![](PICS/4.jpg)   | ![](PICS/5.jpg)   |\n",
    "|:--:|:--:|:--:|:--:|\n"
   ]
  },
  {
   "cell_type": "markdown",
   "metadata": {},
   "source": [
    "> Let's Write Some Python batches to run a python code open a __Code cell__ then write code then click __(Shift+Enter)__ to run the cell and open new one in one time {in next section i just run a python batch to print my name 50 times}"
   ]
  },
  {
   "cell_type": "code",
   "execution_count": 1,
   "metadata": {},
   "outputs": [
    {
     "data": {
      "text/plain": [
       "' Ahmed Khalil  Ahmed Khalil  Ahmed Khalil  Ahmed Khalil  Ahmed Khalil  Ahmed Khalil  Ahmed Khalil  Ahmed Khalil  Ahmed Khalil  Ahmed Khalil  Ahmed Khalil  Ahmed Khalil  Ahmed Khalil  Ahmed Khalil  Ahmed Khalil  Ahmed Khalil  Ahmed Khalil  Ahmed Khalil  Ahmed Khalil  Ahmed Khalil  Ahmed Khalil  Ahmed Khalil  Ahmed Khalil  Ahmed Khalil  Ahmed Khalil  Ahmed Khalil  Ahmed Khalil  Ahmed Khalil  Ahmed Khalil  Ahmed Khalil  Ahmed Khalil  Ahmed Khalil  Ahmed Khalil  Ahmed Khalil  Ahmed Khalil  Ahmed Khalil  Ahmed Khalil  Ahmed Khalil  Ahmed Khalil  Ahmed Khalil  Ahmed Khalil  Ahmed Khalil  Ahmed Khalil  Ahmed Khalil  Ahmed Khalil  Ahmed Khalil  Ahmed Khalil  Ahmed Khalil  Ahmed Khalil  Ahmed Khalil '"
      ]
     },
     "execution_count": 1,
     "metadata": {},
     "output_type": "execute_result"
    }
   ],
   "source": [
    "' Ahmed Khalil ' * 50"
   ]
  },
  {
   "cell_type": "code",
   "execution_count": 7,
   "metadata": {},
   "outputs": [
    {
     "name": "stdout",
     "output_type": "stream",
     "text": [
      "['Pandas', 'SciKit-learn', 'Numpy', 'matplotlib']\n",
      "1 - Pandas\n",
      "2 - SciKit-learn\n",
      "3 - Numpy\n",
      "4 - matplotlib\n"
     ]
    }
   ],
   "source": [
    "Packages = ['Pandas' , 'SciKit-learn' , 'Numpy' , 'matplotlib']\n",
    "print(Packages)\n",
    "for x in range(len(Packages)):\n",
    "    print(str(x+1)+' - ' +Packages[x])\n",
    "    \n",
    "    "
   ]
  },
  {
   "cell_type": "code",
   "execution_count": null,
   "metadata": {},
   "outputs": [],
   "source": []
  },
  {
   "cell_type": "code",
   "execution_count": null,
   "metadata": {},
   "outputs": [],
   "source": []
  }
 ],
 "metadata": {
  "kernelspec": {
   "display_name": "Python 3",
   "language": "python",
   "name": "python3"
  },
  "language_info": {
   "codemirror_mode": {
    "name": "ipython",
    "version": 3
   },
   "file_extension": ".py",
   "mimetype": "text/x-python",
   "name": "python",
   "nbconvert_exporter": "python",
   "pygments_lexer": "ipython3",
   "version": "3.7.4"
  }
 },
 "nbformat": 4,
 "nbformat_minor": 2
}
